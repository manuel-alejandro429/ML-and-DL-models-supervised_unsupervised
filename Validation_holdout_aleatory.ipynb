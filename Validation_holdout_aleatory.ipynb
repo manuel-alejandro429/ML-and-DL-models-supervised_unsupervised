{
  "nbformat": 4,
  "nbformat_minor": 0,
  "metadata": {
    "colab": {
      "provenance": []
    },
    "kernelspec": {
      "name": "python3",
      "display_name": "Python 3"
    },
    "language_info": {
      "name": "python"
    }
  },
  "cells": [
    {
      "cell_type": "markdown",
      "source": [
        "**Holdout validation with random assignment**"
      ],
      "metadata": {
        "id": "zbbYYz2amHpp"
      }
    },
    {
      "cell_type": "code",
      "source": [
        "import numpy as np\n",
        "import matplotlib.pyplot as plt\n",
        "from keras.datasets import mnist\n",
        "import sklearn.metrics as skm\n",
        "from sklearn.metrics import accuracy_score\n",
        "from sklearn.metrics import classification_report"
      ],
      "metadata": {
        "id": "OYM9nIqneqRU"
      },
      "execution_count": 2,
      "outputs": []
    },
    {
      "cell_type": "code",
      "execution_count": 3,
      "metadata": {
        "id": "_o2D1DTtmCyO",
        "outputId": "d4c67231-530e-48e7-d533-594ae862bcdd",
        "colab": {
          "base_uri": "https://localhost:8080/",
          "height": 521
        }
      },
      "outputs": [
        {
          "output_type": "stream",
          "name": "stdout",
          "text": [
            "Tamaño de X: (60000, 28, 28)\n",
            "Tamaño de y: (60000,)\n",
            "Tamaño de x_test_: (10000, 28, 28)\n",
            "Tamaño de y_test_: (10000,)\n"
          ]
        },
        {
          "output_type": "display_data",
          "data": {
            "text/plain": [
              "<Figure size 640x480 with 1 Axes>"
            ],
            "image/png": "[encoded data removed]"
          },
          "metadata": {}
        }
      ],
      "source": [
        "# The MNIST database is loaded:\n",
        "(X, y),(x_test_,y_test_) = mnist.load_data()\n",
        "\n",
        "# The size of the training and test data is printed:\n",
        "print(\"Tamaño de X:\", X.shape)\n",
        "print(\"Tamaño de y:\", y.shape)\n",
        "print(\"Tamaño de x_test_:\",x_test_.shape)\n",
        "print(\"Tamaño de y_test_:\", y_test_.shape)\n",
        "\n",
        "# A random image of the training set is displayed:\n",
        "rand_index = np.random.randint(0, X.shape[0])\n",
        "plt.imshow(X[rand_index], cmap=\"gray\")\n",
        "plt.title(\"Label: {}\".format(y[rand_index]))\n",
        "plt.show()\n",
        "\n",
        "# Training and validation images are vectorized:\n",
        "X=np.reshape(X,(X.shape[0],X.shape[1]*X.shape[2]))\n",
        "\n",
        "# The data set is normalized:\n",
        "X=X/255"
      ]
    },
    {
      "cell_type": "code",
      "source": [
        "# Para probar la validación holdout aleatória se hará con el modelo K-NN.\n",
        "\n",
        "from sklearn.model_selection import train_test_split\n",
        "from sklearn.neighbors import KNeighborsClassifier\n",
        "\n",
        "nreps=3 #Number of reps of the experiment\n",
        "\n",
        "# A K-NN model is created and fitted with the training data:\n",
        "\n",
        "k=3\n",
        "knn_model= KNeighborsClassifier(n_neighbors=k)\n",
        "\n",
        "accuracy=np.empty((nreps))\n",
        "\n",
        "for i in range(nreps):\n",
        "\n",
        "  #The data set is splited with a 75% of  records for training and for testing the 25%.\n",
        "  #It is determined by test_size variable.\n",
        "\n",
        "  X_train, X_test, y_train, y_test = train_test_split(X, y, test_size=0.25, random_state=None)\n",
        "  if i==0:\n",
        "    print('Tamaño del conjunto de entrenamiento:', X_train.shape)\n",
        "    print('Tamaño del conjunto de validación:', X_test.shape)\n",
        "\n",
        "  #The k-nn model is trained:\n",
        "  knn_model.fit(X_train, y_train)\n",
        "\n",
        "\n",
        "  # Validation:\n",
        "  # The K-NN model is used to make prediction on the test data:\n",
        "  predictions = knn_model.predict(X_test)\n",
        "\n",
        "  # The performance of the K-nn model is evaluated\n",
        "  acc=(accuracy_score(y_test, predictions))\n",
        "  print(f'Accuracy iteration {i+1} K-NN model : {acc}')\n",
        "  accuracy[i]=acc\n",
        "\n",
        "acc_prom = accuracy.mean()\n",
        "acc_std  = accuracy.std()\n",
        "\n",
        "print('Average Accuracy:',acc_prom*100)\n",
        "print('Standard deviation of the accurracy:',acc_std*100)\n"
      ],
      "metadata": {
        "id": "JpFeFMJBnsAJ",
        "colab": {
          "base_uri": "https://localhost:8080/"
        },
        "outputId": "25a12621-4e8d-4aa6-9a6a-cb5eac816ebb"
      },
      "execution_count": 4,
      "outputs": [
        {
          "output_type": "stream",
          "name": "stdout",
          "text": [
            "Tamaño del conjunto de entrenamiento: (45000, 784)\n",
            "Tamaño del conjunto de validación: (15000, 784)\n",
            "Accuracy iteration 1 K-NN model : 0.97\n",
            "Accuracy iteration 2 K-NN model : 0.9722666666666666\n",
            "Accuracy iteration 3 K-NN model : 0.9696666666666667\n",
            "Average Accuracy: 97.06444444444445\n",
            "Standard deviation of the accurracy: 0.11551281260770457\n"
          ]
        }
      ]
    }
  ]
}